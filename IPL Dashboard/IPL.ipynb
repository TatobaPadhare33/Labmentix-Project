{
 "cells": [
  {
   "cell_type": "code",
   "execution_count": 19,
   "id": "70e452af-18f5-4e2c-8c15-528a98239ede",
   "metadata": {},
   "outputs": [],
   "source": [
    "import pandas as pd\n",
    "import numpy as np\n",
    "\n"
   ]
  },
  {
   "cell_type": "code",
   "execution_count": 21,
   "id": "585c6388-2eba-4e84-abe5-a87933303da0",
   "metadata": {},
   "outputs": [],
   "source": [
    "matches = pd.read_csv(\"matches (1).csv\")   # use your original file name\n",
    "deliveries = pd.read_csv(\"deliveries.csv\")"
   ]
  },
  {
   "cell_type": "markdown",
   "id": "6221e9e0-fbd9-4112-9c76-bc4197df424e",
   "metadata": {},
   "source": [
    "# Data Cleaning in EDA"
   ]
  },
  {
   "cell_type": "code",
   "execution_count": 22,
   "id": "ef620ce6-99de-4bf8-a6d0-d4e4f260481c",
   "metadata": {},
   "outputs": [
    {
     "name": "stdout",
     "output_type": "stream",
     "text": [
      "(636, 18)\n",
      "(150460, 21)\n"
     ]
    }
   ],
   "source": [
    "# Step 3: Initial Look\n",
    "print(matches.shape)\n",
    "print(deliveries.shape)\n"
   ]
  },
  {
   "cell_type": "code",
   "execution_count": 24,
   "id": "41fbeb6f-1403-4af1-bd0e-58516a68aa1c",
   "metadata": {},
   "outputs": [
    {
     "data": {
      "text/html": [
       "<div>\n",
       "<style scoped>\n",
       "    .dataframe tbody tr th:only-of-type {\n",
       "        vertical-align: middle;\n",
       "    }\n",
       "\n",
       "    .dataframe tbody tr th {\n",
       "        vertical-align: top;\n",
       "    }\n",
       "\n",
       "    .dataframe thead th {\n",
       "        text-align: right;\n",
       "    }\n",
       "</style>\n",
       "<table border=\"1\" class=\"dataframe\">\n",
       "  <thead>\n",
       "    <tr style=\"text-align: right;\">\n",
       "      <th></th>\n",
       "      <th>match_id</th>\n",
       "      <th>inning</th>\n",
       "      <th>batting_team</th>\n",
       "      <th>bowling_team</th>\n",
       "      <th>over</th>\n",
       "      <th>ball</th>\n",
       "      <th>batsman</th>\n",
       "      <th>non_striker</th>\n",
       "      <th>bowler</th>\n",
       "      <th>is_super_over</th>\n",
       "      <th>...</th>\n",
       "      <th>bye_runs</th>\n",
       "      <th>legbye_runs</th>\n",
       "      <th>noball_runs</th>\n",
       "      <th>penalty_runs</th>\n",
       "      <th>batsman_runs</th>\n",
       "      <th>extra_runs</th>\n",
       "      <th>total_runs</th>\n",
       "      <th>player_dismissed</th>\n",
       "      <th>dismissal_kind</th>\n",
       "      <th>fielder</th>\n",
       "    </tr>\n",
       "  </thead>\n",
       "  <tbody>\n",
       "    <tr>\n",
       "      <th>0</th>\n",
       "      <td>1</td>\n",
       "      <td>1</td>\n",
       "      <td>Sunrisers Hyderabad</td>\n",
       "      <td>Royal Challengers Bangalore</td>\n",
       "      <td>1</td>\n",
       "      <td>1</td>\n",
       "      <td>DA Warner</td>\n",
       "      <td>S Dhawan</td>\n",
       "      <td>TS Mills</td>\n",
       "      <td>0</td>\n",
       "      <td>...</td>\n",
       "      <td>0</td>\n",
       "      <td>0</td>\n",
       "      <td>0</td>\n",
       "      <td>0</td>\n",
       "      <td>0</td>\n",
       "      <td>0</td>\n",
       "      <td>0</td>\n",
       "      <td>NaN</td>\n",
       "      <td>NaN</td>\n",
       "      <td>NaN</td>\n",
       "    </tr>\n",
       "    <tr>\n",
       "      <th>1</th>\n",
       "      <td>1</td>\n",
       "      <td>1</td>\n",
       "      <td>Sunrisers Hyderabad</td>\n",
       "      <td>Royal Challengers Bangalore</td>\n",
       "      <td>1</td>\n",
       "      <td>2</td>\n",
       "      <td>DA Warner</td>\n",
       "      <td>S Dhawan</td>\n",
       "      <td>TS Mills</td>\n",
       "      <td>0</td>\n",
       "      <td>...</td>\n",
       "      <td>0</td>\n",
       "      <td>0</td>\n",
       "      <td>0</td>\n",
       "      <td>0</td>\n",
       "      <td>0</td>\n",
       "      <td>0</td>\n",
       "      <td>0</td>\n",
       "      <td>NaN</td>\n",
       "      <td>NaN</td>\n",
       "      <td>NaN</td>\n",
       "    </tr>\n",
       "    <tr>\n",
       "      <th>2</th>\n",
       "      <td>1</td>\n",
       "      <td>1</td>\n",
       "      <td>Sunrisers Hyderabad</td>\n",
       "      <td>Royal Challengers Bangalore</td>\n",
       "      <td>1</td>\n",
       "      <td>3</td>\n",
       "      <td>DA Warner</td>\n",
       "      <td>S Dhawan</td>\n",
       "      <td>TS Mills</td>\n",
       "      <td>0</td>\n",
       "      <td>...</td>\n",
       "      <td>0</td>\n",
       "      <td>0</td>\n",
       "      <td>0</td>\n",
       "      <td>0</td>\n",
       "      <td>4</td>\n",
       "      <td>0</td>\n",
       "      <td>4</td>\n",
       "      <td>NaN</td>\n",
       "      <td>NaN</td>\n",
       "      <td>NaN</td>\n",
       "    </tr>\n",
       "    <tr>\n",
       "      <th>3</th>\n",
       "      <td>1</td>\n",
       "      <td>1</td>\n",
       "      <td>Sunrisers Hyderabad</td>\n",
       "      <td>Royal Challengers Bangalore</td>\n",
       "      <td>1</td>\n",
       "      <td>4</td>\n",
       "      <td>DA Warner</td>\n",
       "      <td>S Dhawan</td>\n",
       "      <td>TS Mills</td>\n",
       "      <td>0</td>\n",
       "      <td>...</td>\n",
       "      <td>0</td>\n",
       "      <td>0</td>\n",
       "      <td>0</td>\n",
       "      <td>0</td>\n",
       "      <td>0</td>\n",
       "      <td>0</td>\n",
       "      <td>0</td>\n",
       "      <td>NaN</td>\n",
       "      <td>NaN</td>\n",
       "      <td>NaN</td>\n",
       "    </tr>\n",
       "    <tr>\n",
       "      <th>4</th>\n",
       "      <td>1</td>\n",
       "      <td>1</td>\n",
       "      <td>Sunrisers Hyderabad</td>\n",
       "      <td>Royal Challengers Bangalore</td>\n",
       "      <td>1</td>\n",
       "      <td>5</td>\n",
       "      <td>DA Warner</td>\n",
       "      <td>S Dhawan</td>\n",
       "      <td>TS Mills</td>\n",
       "      <td>0</td>\n",
       "      <td>...</td>\n",
       "      <td>0</td>\n",
       "      <td>0</td>\n",
       "      <td>0</td>\n",
       "      <td>0</td>\n",
       "      <td>0</td>\n",
       "      <td>2</td>\n",
       "      <td>2</td>\n",
       "      <td>NaN</td>\n",
       "      <td>NaN</td>\n",
       "      <td>NaN</td>\n",
       "    </tr>\n",
       "  </tbody>\n",
       "</table>\n",
       "<p>5 rows × 21 columns</p>\n",
       "</div>"
      ],
      "text/plain": [
       "   match_id  inning         batting_team                 bowling_team  over  \\\n",
       "0         1       1  Sunrisers Hyderabad  Royal Challengers Bangalore     1   \n",
       "1         1       1  Sunrisers Hyderabad  Royal Challengers Bangalore     1   \n",
       "2         1       1  Sunrisers Hyderabad  Royal Challengers Bangalore     1   \n",
       "3         1       1  Sunrisers Hyderabad  Royal Challengers Bangalore     1   \n",
       "4         1       1  Sunrisers Hyderabad  Royal Challengers Bangalore     1   \n",
       "\n",
       "   ball    batsman non_striker    bowler  is_super_over  ...  bye_runs  \\\n",
       "0     1  DA Warner    S Dhawan  TS Mills              0  ...         0   \n",
       "1     2  DA Warner    S Dhawan  TS Mills              0  ...         0   \n",
       "2     3  DA Warner    S Dhawan  TS Mills              0  ...         0   \n",
       "3     4  DA Warner    S Dhawan  TS Mills              0  ...         0   \n",
       "4     5  DA Warner    S Dhawan  TS Mills              0  ...         0   \n",
       "\n",
       "   legbye_runs  noball_runs  penalty_runs  batsman_runs  extra_runs  \\\n",
       "0            0            0             0             0           0   \n",
       "1            0            0             0             0           0   \n",
       "2            0            0             0             4           0   \n",
       "3            0            0             0             0           0   \n",
       "4            0            0             0             0           2   \n",
       "\n",
       "   total_runs  player_dismissed dismissal_kind fielder  \n",
       "0           0               NaN            NaN     NaN  \n",
       "1           0               NaN            NaN     NaN  \n",
       "2           4               NaN            NaN     NaN  \n",
       "3           0               NaN            NaN     NaN  \n",
       "4           2               NaN            NaN     NaN  \n",
       "\n",
       "[5 rows x 21 columns]"
      ]
     },
     "execution_count": 24,
     "metadata": {},
     "output_type": "execute_result"
    }
   ],
   "source": [
    "matches.head()\n",
    "deliveries.head()"
   ]
  },
  {
   "cell_type": "markdown",
   "id": "e147e82f-3361-4564-ae6c-58e642975255",
   "metadata": {},
   "source": [
    "## Check Missing Values"
   ]
  },
  {
   "cell_type": "code",
   "execution_count": 25,
   "id": "f03e1106-1c00-43c4-b237-d84630b9b863",
   "metadata": {},
   "outputs": [
    {
     "name": "stdout",
     "output_type": "stream",
     "text": [
      "Matches dataset missing values:\n",
      "id                   0\n",
      "season               0\n",
      "city                 7\n",
      "date                 0\n",
      "team1                0\n",
      "team2                0\n",
      "toss_winner          0\n",
      "toss_decision        0\n",
      "result               0\n",
      "dl_applied           0\n",
      "winner               3\n",
      "win_by_runs          0\n",
      "win_by_wickets       0\n",
      "player_of_match      3\n",
      "venue                0\n",
      "umpire1              1\n",
      "umpire2              1\n",
      "umpire3            636\n",
      "dtype: int64\n"
     ]
    }
   ],
   "source": [
    "# Count missing values per column\n",
    "print(\"Matches dataset missing values:\")\n",
    "print(matches.isnull().sum())\n"
   ]
  },
  {
   "cell_type": "code",
   "execution_count": 26,
   "id": "882f255e-a985-47b7-bcd7-8e5ffef00a14",
   "metadata": {},
   "outputs": [
    {
     "name": "stdout",
     "output_type": "stream",
     "text": [
      "\n",
      "Deliveries dataset missing values:\n",
      "match_id                 0\n",
      "inning                   0\n",
      "batting_team             0\n",
      "bowling_team             0\n",
      "over                     0\n",
      "ball                     0\n",
      "batsman                  0\n",
      "non_striker              0\n",
      "bowler                   0\n",
      "is_super_over            0\n",
      "wide_runs                0\n",
      "bye_runs                 0\n",
      "legbye_runs              0\n",
      "noball_runs              0\n",
      "penalty_runs             0\n",
      "batsman_runs             0\n",
      "extra_runs               0\n",
      "total_runs               0\n",
      "player_dismissed    143022\n",
      "dismissal_kind      143022\n",
      "fielder             145091\n",
      "dtype: int64\n"
     ]
    }
   ],
   "source": [
    "print(\"\\nDeliveries dataset missing values:\")\n",
    "print(deliveries.isnull().sum())"
   ]
  },
  {
   "cell_type": "markdown",
   "id": "2707714d-91d0-41d2-8201-f2213683e740",
   "metadata": {},
   "source": [
    "## Handle Duplicates"
   ]
  },
  {
   "cell_type": "code",
   "execution_count": 27,
   "id": "8e03a6fd-df7f-4703-b7f7-abde8eb25357",
   "metadata": {},
   "outputs": [
    {
     "name": "stdout",
     "output_type": "stream",
     "text": [
      "Duplicate rows in matches: 0\n",
      "Duplicate rows in deliveries: 1\n"
     ]
    }
   ],
   "source": [
    "# Check duplicates\n",
    "print(\"Duplicate rows in matches:\", matches.duplicated().sum())\n",
    "print(\"Duplicate rows in deliveries:\", deliveries.duplicated().sum())\n"
   ]
  },
  {
   "cell_type": "code",
   "execution_count": 28,
   "id": "7919f174-ad35-4438-a0bf-19318aacfb9d",
   "metadata": {},
   "outputs": [],
   "source": [
    "# Drop if necessary\n",
    "matches.drop_duplicates(inplace=True)\n",
    "deliveries.drop_duplicates(inplace=True)"
   ]
  },
  {
   "cell_type": "markdown",
   "id": "ad7338de-23f8-4802-b469-dadacd7c3292",
   "metadata": {},
   "source": [
    "## Clean String Columns (whitespace, casing)"
   ]
  },
  {
   "cell_type": "code",
   "execution_count": 29,
   "id": "2987dcea-21fc-43bb-b3f9-9c27bb1bbca9",
   "metadata": {},
   "outputs": [],
   "source": [
    "# Strip whitespace and fix casing\n",
    "for col in matches.select_dtypes(include='object'):\n",
    "    matches[col] = matches[col].str.strip()\n",
    "\n",
    "for col in deliveries.select_dtypes(include='object'):\n",
    "    deliveries[col] = deliveries[col].str.strip()"
   ]
  },
  {
   "cell_type": "markdown",
   "id": "be07871b-73ec-4f4d-b5f2-60008ad7cf2e",
   "metadata": {},
   "source": [
    "## Convert Data Types"
   ]
  },
  {
   "cell_type": "code",
   "execution_count": 30,
   "id": "0e010728-37b6-4605-be66-73d9a01b5c7b",
   "metadata": {},
   "outputs": [],
   "source": [
    "# Convert date column to datetime\n",
    "matches['date'] = pd.to_datetime(matches['date'], errors='coerce')\n"
   ]
  },
  {
   "cell_type": "code",
   "execution_count": 31,
   "id": "10c23379-49e2-4269-9dda-d65bbd04ce53",
   "metadata": {},
   "outputs": [],
   "source": [
    "# Ensure numeric columns are correct type\n",
    "matches['season'] = pd.to_numeric(matches['season'], errors='coerce')\n",
    "deliveries['over'] = pd.to_numeric(deliveries['over'], errors='coerce')\n"
   ]
  },
  {
   "cell_type": "markdown",
   "id": "651ec0d4-bf4e-4b1b-be80-9f403a23b2db",
   "metadata": {},
   "source": [
    "## Check Referential Integrity"
   ]
  },
  {
   "cell_type": "code",
   "execution_count": 32,
   "id": "60e9d2fb-7309-40d3-bb95-402023ec4606",
   "metadata": {},
   "outputs": [
    {
     "name": "stdout",
     "output_type": "stream",
     "text": [
      "Deliveries with invalid match_id: 0\n"
     ]
    }
   ],
   "source": [
    "# deliveries.match_id should exist in matches.id\n",
    "invalid_ids = set(deliveries['match_id']) - set(matches['id'])\n",
    "print(\"Deliveries with invalid match_id:\", len(invalid_ids))"
   ]
  },
  {
   "cell_type": "markdown",
   "id": "d0a1681c-a46e-46f9-8725-b7c2995a329d",
   "metadata": {},
   "source": [
    "## Handle Nulls"
   ]
  },
  {
   "cell_type": "code",
   "execution_count": 35,
   "id": "644f76d1-5ef2-4e23-9a01-b1f00dc41f3a",
   "metadata": {},
   "outputs": [],
   "source": [
    "# Safer fix for missing city values\n",
    "matches['city'] = matches['city'].fillna(matches['venue'])"
   ]
  },
  {
   "cell_type": "code",
   "execution_count": 36,
   "id": "46f6184c-6cf3-4741-9455-303c3cd0eba5",
   "metadata": {},
   "outputs": [],
   "source": [
    "# Fill missing umpire names with 'Unknown'\n",
    "matches[['umpire1','umpire2','umpire3']] = matches[['umpire1','umpire2','umpire3']].fillna('Unknown')"
   ]
  },
  {
   "cell_type": "markdown",
   "id": "a881aeac-8e03-4bd5-875b-5c308fd9ca3b",
   "metadata": {},
   "source": [
    "## Save Cleaned Data"
   ]
  },
  {
   "cell_type": "code",
   "execution_count": 39,
   "id": "f971a47c-4944-40e6-b238-70c57555c856",
   "metadata": {},
   "outputs": [],
   "source": [
    "matches.to_csv(\"matches_clean.csv\", index=False)\n",
    "deliveries.to_csv(\"deliveries_clean.csv\", index=False)\n"
   ]
  },
  {
   "cell_type": "markdown",
   "id": "9e949aad-fc9a-4202-ba24-a3b00f472a57",
   "metadata": {},
   "source": [
    "# Highest and lowest scorers (batsman total runs)"
   ]
  },
  {
   "cell_type": "code",
   "execution_count": 40,
   "id": "2aba273a-588b-4e64-82d9-f5c4612da8eb",
   "metadata": {},
   "outputs": [],
   "source": [
    "batsman_runs = deliveries.groupby(\"batsman\")[\"batsman_runs\"].sum().sort_values(ascending=False)\n",
    "highest_scorers = batsman_runs.head(10).reset_index()\n",
    "lowest_scorers = batsman_runs[batsman_runs > 0].tail(10).reset_index()"
   ]
  },
  {
   "cell_type": "code",
   "execution_count": null,
   "id": "9e492471-76a6-443b-a70e-984f8eee8aab",
   "metadata": {},
   "outputs": [],
   "source": []
  }
 ],
 "metadata": {
  "kernelspec": {
   "display_name": "Python 3 (ipykernel)",
   "language": "python",
   "name": "python3"
  },
  "language_info": {
   "codemirror_mode": {
    "name": "ipython",
    "version": 3
   },
   "file_extension": ".py",
   "mimetype": "text/x-python",
   "name": "python",
   "nbconvert_exporter": "python",
   "pygments_lexer": "ipython3",
   "version": "3.12.7"
  }
 },
 "nbformat": 4,
 "nbformat_minor": 5
}
